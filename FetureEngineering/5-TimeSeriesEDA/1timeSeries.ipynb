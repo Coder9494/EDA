{
 "cells": [
  {
   "attachments": {},
   "cell_type": "markdown",
   "metadata": {},
   "source": [
    "# Time Series EDA"
   ]
  },
  {
   "cell_type": "code",
   "execution_count": 37,
   "metadata": {},
   "outputs": [],
   "source": [
    "'''\n",
    "we used pandas-datareader to fet data from various websites -->  https://pandas-datareader.readthedocs.io/en/latest/\n",
    "This allows to access data from various datasets without having to use API key\n",
    "\n",
    "use below command to install from notebook\n",
    "!pip install pandas-datareader\n",
    "'''\n",
    "\n",
    "import pandas_datareader as pdr\n",
    "import pandas as pd\n",
    "from datetime import datetime\n",
    "import matplotlib.pyplot as plt\n",
    "\n"
   ]
  },
  {
   "cell_type": "code",
   "execution_count": 38,
   "metadata": {},
   "outputs": [
    {
     "data": {
      "text/plain": [
       "'\\nSince the the given coed by sir is not working,\\nuse the read_Yahoo_Website_Data.py program to get the data in csv and load here\\n'"
      ]
     },
     "execution_count": 38,
     "metadata": {},
     "output_type": "execute_result"
    }
   ],
   "source": [
    "# reading dataset --> pdr function has lot of datasets\n",
    "\n",
    "'''\n",
    "df = web.DataReader('GE', 'yahoo', start='2019-09-10', end='2019-10-09')\n",
    "df.head()\n",
    "'''\n",
    "\n",
    "# pdr.get_data_fred('GS10')\n",
    "\n",
    "# pdr.get_data_yahoo('AAPL')\n",
    "\n",
    "# yf.pdr_override()\n",
    "\n",
    "'''\n",
    "Since the the given coed by sir is not working,\n",
    "use the read_Yahoo_Website_Data.py program to get the data in csv and load here\n",
    "'''\n"
   ]
  },
  {
   "cell_type": "code",
   "execution_count": 39,
   "metadata": {},
   "outputs": [
    {
     "data": {
      "text/html": [
       "<div>\n",
       "<style scoped>\n",
       "    .dataframe tbody tr th:only-of-type {\n",
       "        vertical-align: middle;\n",
       "    }\n",
       "\n",
       "    .dataframe tbody tr th {\n",
       "        vertical-align: top;\n",
       "    }\n",
       "\n",
       "    .dataframe thead th {\n",
       "        text-align: right;\n",
       "    }\n",
       "</style>\n",
       "<table border=\"1\" class=\"dataframe\">\n",
       "  <thead>\n",
       "    <tr style=\"text-align: right;\">\n",
       "      <th></th>\n",
       "      <th>Unnamed: 0</th>\n",
       "      <th>Date</th>\n",
       "      <th>Open</th>\n",
       "      <th>High</th>\n",
       "      <th>Low</th>\n",
       "      <th>Close</th>\n",
       "      <th>Adj Close</th>\n",
       "      <th>Volume</th>\n",
       "    </tr>\n",
       "  </thead>\n",
       "  <tbody>\n",
       "    <tr>\n",
       "      <th>1254</th>\n",
       "      <td>1254</td>\n",
       "      <td>2022-12-23</td>\n",
       "      <td>126.370003</td>\n",
       "      <td>128.619995</td>\n",
       "      <td>121.019997</td>\n",
       "      <td>123.150002</td>\n",
       "      <td>123.150002</td>\n",
       "      <td>166989700</td>\n",
       "    </tr>\n",
       "    <tr>\n",
       "      <th>1255</th>\n",
       "      <td>1255</td>\n",
       "      <td>2022-12-27</td>\n",
       "      <td>117.500000</td>\n",
       "      <td>119.669998</td>\n",
       "      <td>108.760002</td>\n",
       "      <td>109.099998</td>\n",
       "      <td>109.099998</td>\n",
       "      <td>208643400</td>\n",
       "    </tr>\n",
       "    <tr>\n",
       "      <th>1256</th>\n",
       "      <td>1256</td>\n",
       "      <td>2022-12-28</td>\n",
       "      <td>110.349998</td>\n",
       "      <td>116.269997</td>\n",
       "      <td>108.239998</td>\n",
       "      <td>112.709999</td>\n",
       "      <td>112.709999</td>\n",
       "      <td>221070500</td>\n",
       "    </tr>\n",
       "    <tr>\n",
       "      <th>1257</th>\n",
       "      <td>1257</td>\n",
       "      <td>2022-12-29</td>\n",
       "      <td>120.389999</td>\n",
       "      <td>123.570000</td>\n",
       "      <td>117.500000</td>\n",
       "      <td>121.820000</td>\n",
       "      <td>121.820000</td>\n",
       "      <td>221923300</td>\n",
       "    </tr>\n",
       "    <tr>\n",
       "      <th>1258</th>\n",
       "      <td>1258</td>\n",
       "      <td>2022-12-30</td>\n",
       "      <td>119.949997</td>\n",
       "      <td>124.480003</td>\n",
       "      <td>119.750000</td>\n",
       "      <td>123.180000</td>\n",
       "      <td>123.180000</td>\n",
       "      <td>157304500</td>\n",
       "    </tr>\n",
       "  </tbody>\n",
       "</table>\n",
       "</div>"
      ],
      "text/plain": [
       "      Unnamed: 0        Date        Open        High         Low       Close  \\\n",
       "1254        1254  2022-12-23  126.370003  128.619995  121.019997  123.150002   \n",
       "1255        1255  2022-12-27  117.500000  119.669998  108.760002  109.099998   \n",
       "1256        1256  2022-12-28  110.349998  116.269997  108.239998  112.709999   \n",
       "1257        1257  2022-12-29  120.389999  123.570000  117.500000  121.820000   \n",
       "1258        1258  2022-12-30  119.949997  124.480003  119.750000  123.180000   \n",
       "\n",
       "       Adj Close     Volume  \n",
       "1254  123.150002  166989700  \n",
       "1255  109.099998  208643400  \n",
       "1256  112.709999  221070500  \n",
       "1257  121.820000  221923300  \n",
       "1258  123.180000  157304500  "
      ]
     },
     "execution_count": 39,
     "metadata": {},
     "output_type": "execute_result"
    }
   ],
   "source": [
    "df_tesla = pd.read_csv('TSLA.csv')\n",
    "\n",
    "type(df_tesla)\n",
    "\n",
    "df_tesla.tail()\n"
   ]
  },
  {
   "cell_type": "code",
   "execution_count": 40,
   "metadata": {},
   "outputs": [],
   "source": [
    "# drop extra column from the data frame\n",
    "\n",
    "df_tesla = df_tesla.drop(['Unnamed: 0'], axis=1)"
   ]
  },
  {
   "cell_type": "code",
   "execution_count": 41,
   "metadata": {},
   "outputs": [
    {
     "ename": "AttributeError",
     "evalue": "'Series' object has no attribute 'plt'",
     "output_type": "error",
     "traceback": [
      "\u001b[1;31m---------------------------------------------------------------------------\u001b[0m",
      "\u001b[1;31mAttributeError\u001b[0m                            Traceback (most recent call last)",
      "\u001b[1;32mc:\\Users\\purab\\Desktop\\Shanu\\EDA&FeatureEngineering\\5- Time series EDA\\1timeSeries.ipynb Cell 6\u001b[0m in \u001b[0;36m<module>\u001b[1;34m\u001b[0m\n\u001b[1;32m----> <a href='vscode-notebook-cell:/c%3A/Users/purab/Desktop/Shanu/EDA%26FeatureEngineering/5-%20Time%20series%20EDA/1timeSeries.ipynb#W5sZmlsZQ%3D%3D?line=0'>1</a>\u001b[0m df_tesla[\u001b[39m'\u001b[39;49m\u001b[39mHigh\u001b[39;49m\u001b[39m'\u001b[39;49m]\u001b[39m.\u001b[39;49mplt\u001b[39m.\u001b[39mplot()\n",
      "File \u001b[1;32m~\\AppData\\Local\\Packages\\PythonSoftwareFoundation.Python.3.9_qbz5n2kfra8p0\\LocalCache\\local-packages\\Python39\\site-packages\\pandas\\core\\generic.py:5583\u001b[0m, in \u001b[0;36m__getattr__\u001b[1;34m(self, name)\u001b[0m\n\u001b[0;32m   5549\u001b[0m \u001b[39m@final\u001b[39m\n\u001b[0;32m   5550\u001b[0m \u001b[39mdef\u001b[39;00m \u001b[39mtail\u001b[39m(\u001b[39mself\u001b[39m: NDFrameT, n: \u001b[39mint\u001b[39m \u001b[39m=\u001b[39m \u001b[39m5\u001b[39m) \u001b[39m-\u001b[39m\u001b[39m>\u001b[39m NDFrameT:\n\u001b[0;32m   5551\u001b[0m     \u001b[39m\"\"\"\u001b[39;00m\n\u001b[0;32m   5552\u001b[0m \u001b[39m    Return the last `n` rows.\u001b[39;00m\n\u001b[0;32m   5553\u001b[0m \n\u001b[0;32m   5554\u001b[0m \u001b[39m    This function returns last `n` rows from the object based on\u001b[39;00m\n\u001b[0;32m   5555\u001b[0m \u001b[39m    position. It is useful for quickly verifying data, for example,\u001b[39;00m\n\u001b[0;32m   5556\u001b[0m \u001b[39m    after sorting or appending rows.\u001b[39;00m\n\u001b[0;32m   5557\u001b[0m \n\u001b[0;32m   5558\u001b[0m \u001b[39m    For negative values of `n`, this function returns all rows except\u001b[39;00m\n\u001b[0;32m   5559\u001b[0m \u001b[39m    the first `|n|` rows, equivalent to ``df[|n|:]``.\u001b[39;00m\n\u001b[0;32m   5560\u001b[0m \n\u001b[0;32m   5561\u001b[0m \u001b[39m    If n is larger than the number of rows, this function returns all rows.\u001b[39;00m\n\u001b[0;32m   5562\u001b[0m \n\u001b[0;32m   5563\u001b[0m \u001b[39m    Parameters\u001b[39;00m\n\u001b[0;32m   5564\u001b[0m \u001b[39m    ----------\u001b[39;00m\n\u001b[0;32m   5565\u001b[0m \u001b[39m    n : int, default 5\u001b[39;00m\n\u001b[0;32m   5566\u001b[0m \u001b[39m        Number of rows to select.\u001b[39;00m\n\u001b[0;32m   5567\u001b[0m \n\u001b[0;32m   5568\u001b[0m \u001b[39m    Returns\u001b[39;00m\n\u001b[0;32m   5569\u001b[0m \u001b[39m    -------\u001b[39;00m\n\u001b[0;32m   5570\u001b[0m \u001b[39m    type of caller\u001b[39;00m\n\u001b[0;32m   5571\u001b[0m \u001b[39m        The last `n` rows of the caller object.\u001b[39;00m\n\u001b[0;32m   5572\u001b[0m \n\u001b[0;32m   5573\u001b[0m \u001b[39m    See Also\u001b[39;00m\n\u001b[0;32m   5574\u001b[0m \u001b[39m    --------\u001b[39;00m\n\u001b[0;32m   5575\u001b[0m \u001b[39m    DataFrame.head : The first `n` rows of the caller object.\u001b[39;00m\n\u001b[0;32m   5576\u001b[0m \n\u001b[0;32m   5577\u001b[0m \u001b[39m    Examples\u001b[39;00m\n\u001b[0;32m   5578\u001b[0m \u001b[39m    --------\u001b[39;00m\n\u001b[0;32m   5579\u001b[0m \u001b[39m    >>> df = pd.DataFrame({'animal': ['alligator', 'bee', 'falcon', 'lion',\u001b[39;00m\n\u001b[0;32m   5580\u001b[0m \u001b[39m    ...                    'monkey', 'parrot', 'shark', 'whale', 'zebra']})\u001b[39;00m\n\u001b[0;32m   5581\u001b[0m \u001b[39m    >>> df\u001b[39;00m\n\u001b[0;32m   5582\u001b[0m \u001b[39m          animal\u001b[39;00m\n\u001b[1;32m-> 5583\u001b[0m \u001b[39m    0  alligator\u001b[39;00m\n\u001b[0;32m   5584\u001b[0m \u001b[39m    1        bee\u001b[39;00m\n\u001b[0;32m   5585\u001b[0m \u001b[39m    2     falcon\u001b[39;00m\n\u001b[0;32m   5586\u001b[0m \u001b[39m    3       lion\u001b[39;00m\n\u001b[0;32m   5587\u001b[0m \u001b[39m    4     monkey\u001b[39;00m\n\u001b[0;32m   5588\u001b[0m \u001b[39m    5     parrot\u001b[39;00m\n\u001b[0;32m   5589\u001b[0m \u001b[39m    6      shark\u001b[39;00m\n\u001b[0;32m   5590\u001b[0m \u001b[39m    7      whale\u001b[39;00m\n\u001b[0;32m   5591\u001b[0m \u001b[39m    8      zebra\u001b[39;00m\n\u001b[0;32m   5592\u001b[0m \n\u001b[0;32m   5593\u001b[0m \u001b[39m    Viewing the last 5 lines\u001b[39;00m\n\u001b[0;32m   5594\u001b[0m \n\u001b[0;32m   5595\u001b[0m \u001b[39m    >>> df.tail()\u001b[39;00m\n\u001b[0;32m   5596\u001b[0m \u001b[39m       animal\u001b[39;00m\n\u001b[0;32m   5597\u001b[0m \u001b[39m    4  monkey\u001b[39;00m\n\u001b[0;32m   5598\u001b[0m \u001b[39m    5  parrot\u001b[39;00m\n\u001b[0;32m   5599\u001b[0m \u001b[39m    6   shark\u001b[39;00m\n\u001b[0;32m   5600\u001b[0m \u001b[39m    7   whale\u001b[39;00m\n\u001b[0;32m   5601\u001b[0m \u001b[39m    8   zebra\u001b[39;00m\n\u001b[0;32m   5602\u001b[0m \n\u001b[0;32m   5603\u001b[0m \u001b[39m    Viewing the last `n` lines (three in this case)\u001b[39;00m\n\u001b[0;32m   5604\u001b[0m \n\u001b[0;32m   5605\u001b[0m \u001b[39m    >>> df.tail(3)\u001b[39;00m\n\u001b[0;32m   5606\u001b[0m \u001b[39m      animal\u001b[39;00m\n\u001b[0;32m   5607\u001b[0m \u001b[39m    6  shark\u001b[39;00m\n\u001b[0;32m   5608\u001b[0m \u001b[39m    7  whale\u001b[39;00m\n\u001b[0;32m   5609\u001b[0m \u001b[39m    8  zebra\u001b[39;00m\n\u001b[0;32m   5610\u001b[0m \n\u001b[0;32m   5611\u001b[0m \u001b[39m    For negative values of `n`\u001b[39;00m\n\u001b[0;32m   5612\u001b[0m \n\u001b[0;32m   5613\u001b[0m \u001b[39m    >>> df.tail(-3)\u001b[39;00m\n\u001b[0;32m   5614\u001b[0m \u001b[39m       animal\u001b[39;00m\n\u001b[0;32m   5615\u001b[0m \u001b[39m    3    lion\u001b[39;00m\n\u001b[0;32m   5616\u001b[0m \u001b[39m    4  monkey\u001b[39;00m\n\u001b[0;32m   5617\u001b[0m \u001b[39m    5  parrot\u001b[39;00m\n\u001b[0;32m   5618\u001b[0m \u001b[39m    6   shark\u001b[39;00m\n\u001b[0;32m   5619\u001b[0m \u001b[39m    7   whale\u001b[39;00m\n\u001b[0;32m   5620\u001b[0m \u001b[39m    8   zebra\u001b[39;00m\n\u001b[0;32m   5621\u001b[0m \u001b[39m    \"\"\"\u001b[39;00m\n\u001b[0;32m   5622\u001b[0m     \u001b[39mif\u001b[39;00m n \u001b[39m==\u001b[39m \u001b[39m0\u001b[39m:\n\u001b[0;32m   5623\u001b[0m         \u001b[39mreturn\u001b[39;00m \u001b[39mself\u001b[39m\u001b[39m.\u001b[39miloc[\u001b[39m0\u001b[39m:\u001b[39m0\u001b[39m]\n",
      "\u001b[1;31mAttributeError\u001b[0m: 'Series' object has no attribute 'plt'"
     ]
    }
   ],
   "source": [
    "\n",
    "\n",
    "df_tesla['High'].plt.plot()"
   ]
  }
 ],
 "metadata": {
  "kernelspec": {
   "display_name": "Python 3",
   "language": "python",
   "name": "python3"
  },
  "language_info": {
   "codemirror_mode": {
    "name": "ipython",
    "version": 3
   },
   "file_extension": ".py",
   "mimetype": "text/x-python",
   "name": "python",
   "nbconvert_exporter": "python",
   "pygments_lexer": "ipython3",
   "version": "3.9.13"
  },
  "orig_nbformat": 4,
  "vscode": {
   "interpreter": {
    "hash": "df0b350e48fa11a681134e19ee81212329ab6524aed10ef858e51e5d8deb96b2"
   }
  }
 },
 "nbformat": 4,
 "nbformat_minor": 2
}
